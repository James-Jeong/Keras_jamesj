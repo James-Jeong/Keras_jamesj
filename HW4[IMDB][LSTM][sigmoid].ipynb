{
 "cells": [
  {
   "cell_type": "code",
   "execution_count": 1,
   "metadata": {},
   "outputs": [],
   "source": [
    "# IMDB & LSTM\n",
    "# *Dataset에 대해 추가 조사 필요\n",
    "# - 실제 데이터에 대한 상세 기술\n",
    "# - 예측하고자 하는 방법/방향 기술 : RNN으로 훈련하지 않고 LSTM으로 훈련했을 때 accuracy의 향상을 예측하고자 한다.\n",
    "# - 학습을 위해 데이터가 어떻게 가공/처리되었는지 기술\n",
    "# - 사용된 모델의 특징에 대한 기술\n",
    "# - 생성된 모델의 model.summary() 출력\n",
    "# - epoch은 최소 25회 이상 진행"
   ]
  },
  {
   "cell_type": "code",
   "execution_count": 5,
   "metadata": {},
   "outputs": [],
   "source": [
    "from keras.datasets import imdb\n",
    "(x_train, y_train), (x_test, y_test) = imdb.load_data(num_words=10000)"
   ]
  },
  {
   "cell_type": "code",
   "execution_count": 6,
   "metadata": {},
   "outputs": [
    {
     "name": "stdout",
     "output_type": "stream",
     "text": [
      "training set : 25000\n",
      "test set : 25000\n",
      "category : 2\n"
     ]
    }
   ],
   "source": [
    "print('training set : {}'.format(len(x_train)))\n",
    "print('test set : {}'.format(len(x_test)))\n",
    "num_classes = max(y_train) + 1\n",
    "print('category : {}'.format(num_classes))"
   ]
  },
  {
   "cell_type": "code",
   "execution_count": 7,
   "metadata": {},
   "outputs": [
    {
     "name": "stdout",
     "output_type": "stream",
     "text": [
      "[1, 14, 22, 16, 43, 530, 973, 1622, 1385, 65, 458, 4468, 66, 3941, 4, 173, 36, 256, 5, 25, 100, 43, 838, 112, 50, 670, 2, 9, 35, 480, 284, 5, 150, 4, 172, 112, 167, 2, 336, 385, 39, 4, 172, 4536, 1111, 17, 546, 38, 13, 447, 4, 192, 50, 16, 6, 147, 2025, 19, 14, 22, 4, 1920, 4613, 469, 4, 22, 71, 87, 12, 16, 43, 530, 38, 76, 15, 13, 1247, 4, 22, 17, 515, 17, 12, 16, 626, 18, 2, 5, 62, 386, 12, 8, 316, 8, 106, 5, 4, 2223, 5244, 16, 480, 66, 3785, 33, 4, 130, 12, 16, 38, 619, 5, 25, 124, 51, 36, 135, 48, 25, 1415, 33, 6, 22, 12, 215, 28, 77, 52, 5, 14, 407, 16, 82, 2, 8, 4, 107, 117, 5952, 15, 256, 4, 2, 7, 3766, 5, 723, 36, 71, 43, 530, 476, 26, 400, 317, 46, 7, 4, 2, 1029, 13, 104, 88, 4, 381, 15, 297, 98, 32, 2071, 56, 26, 141, 6, 194, 7486, 18, 4, 226, 22, 21, 134, 476, 26, 480, 5, 144, 30, 5535, 18, 51, 36, 28, 224, 92, 25, 104, 4, 226, 65, 16, 38, 1334, 88, 12, 16, 283, 5, 16, 4472, 113, 103, 32, 15, 16, 5345, 19, 178, 32]\n",
      "1\n"
     ]
    }
   ],
   "source": [
    "print(x_train[0])\n",
    "print(y_train[0])"
   ]
  },
  {
   "cell_type": "code",
   "execution_count": 8,
   "metadata": {},
   "outputs": [
    {
     "data": {
      "image/png": "[encoded data removed]",
      "text/plain": [
       "<Figure size 432x288 with 1 Axes>"
      ]
     },
     "metadata": {
      "needs_background": "light"
     },
     "output_type": "display_data"
    }
   ],
   "source": [
    "%matplotlib inline\n",
    "import matplotlib.pyplot as plt\n",
    "\n",
    "plt.hist([len(s) for s in X_train], bins=50)\n",
    "plt.xlabel('length of Data')\n",
    "plt.ylabel('number of Data')\n",
    "plt.show()"
   ]
  },
  {
   "cell_type": "code",
   "execution_count": 9,
   "metadata": {},
   "outputs": [
    {
     "name": "stdout",
     "output_type": "stream",
     "text": [
      "Frequency about each labels :\n",
      "[[    0     1]\n",
      " [12500 12500]]\n"
     ]
    }
   ],
   "source": [
    "import numpy as np\n",
    "unique_elements, counts_elements = np.unique(y_train, return_counts=True)\n",
    "print(\"Frequency about each labels :\")\n",
    "print(np.asarray((unique_elements, counts_elements)))"
   ]
  },
  {
   "cell_type": "code",
   "execution_count": 10,
   "metadata": {},
   "outputs": [
    {
     "name": "stdout",
     "output_type": "stream",
     "text": [
      "Downloading data from https://s3.amazonaws.com/text-datasets/imdb_word_index.json\n",
      "1646592/1641221 [==============================] - 1s 1us/step\n"
     ]
    }
   ],
   "source": [
    "word_index = imdb.get_word_index()\n",
    "index_to_word={}\n",
    "for key, value in word_index.items():\n",
    "    index_to_word[value] = key"
   ]
  },
  {
   "cell_type": "code",
   "execution_count": 16,
   "metadata": {},
   "outputs": [
    {
     "name": "stdout",
     "output_type": "stream",
     "text": [
      "shop\n",
      "h\n"
     ]
    }
   ],
   "source": [
    "print(index_to_word[2019])\n",
    "print(index_to_word[2020])"
   ]
  },
  {
   "cell_type": "code",
   "execution_count": 19,
   "metadata": {},
   "outputs": [
    {
     "name": "stdout",
     "output_type": "stream",
     "text": [
      "the hearts social i i is and italian someone work worse declares is time copy italian someone work fun to average all there recommend but of how my watch of favorite all wrongly this of happening film about his date about of couple hard all adequately for all end his just recommend get to end his pretty in classic that cast but they there's is again actors i i as it winning is sound today but is and has is worse realised be lukas it's came is perform lives has is tough and listen film is similarly and and i i take movie of little noted when lifted it is their br is italian someone work help like it fed to loren who be joking killer i i they by come be killer and in about inside ashamed like he his movie eat movie from 2 at us event br of too this as only works there will heart was one best will up russell br made i i of got cabin dream editing like let's it mentioned worked about none effort in ever suffered this about mae have one will relationship has as movie would lines made so and marry steamy i i of italian someone work help tries in at is help all tries in at is unintentional i i such his bad can of actually imdb is again since watch enemy that george in at is undead wish wanted vincent work and out movie kumar than paris are day this of drove to mars i i true of got help it is unintentional all there although afternoon all mentality all into at of by in taking of food and bad can of italian someone work help insanity wish africa be imdb go of and enjoying level killer it and show be option damme in simply\n"
     ]
    }
   ],
   "source": [
    "print(' '.join([index_to_word[X] for X in X_train[2019]]))"
   ]
  },
  {
   "cell_type": "code",
   "execution_count": 1,
   "metadata": {},
   "outputs": [
    {
     "name": "stderr",
     "output_type": "stream",
     "text": [
      "Using TensorFlow backend.\n"
     ]
    }
   ],
   "source": [
    "from keras.datasets import imdb\n",
    "from keras.models import Sequential\n",
    "from keras.layers import Dense, LSTM, Embedding\n",
    "from keras.preprocessing import sequence"
   ]
  },
  {
   "cell_type": "code",
   "execution_count": 2,
   "metadata": {},
   "outputs": [],
   "source": [
    "# 훈련 빈도 5000이상 단어만 수집\n",
    "(x_train, y_train), (x_test, y_test) = imdb.load_data(num_words=5000)"
   ]
  },
  {
   "cell_type": "code",
   "execution_count": 3,
   "metadata": {},
   "outputs": [],
   "source": [
    "# 훈련하기 위해서는 동일한 조건으로 수행해야 한다.\n",
    "# 그래서 pad_sequences()를 이용해서 문장마다 일정 패딩을 추가해 문장의 길이를 같게 한다.\n",
    "x_train = sequence.pad_sequences(x_train, maxlen=500)\n",
    "x_test = sequence.pad_sequences(x_test, maxlen=500)"
   ]
  },
  {
   "cell_type": "code",
   "execution_count": 4,
   "metadata": {},
   "outputs": [
    {
     "name": "stderr",
     "output_type": "stream",
     "text": [
      "WARNING: Logging before flag parsing goes to stderr.\n",
      "W0804 12:55:52.513556  7948 deprecation_wrapper.py:119] From C:\\Users\\ehddn\\.conda\\envs\\venv\\lib\\site-packages\\keras-2.2.4-py3.7.egg\\keras\\backend\\tensorflow_backend.py:74: The name tf.get_default_graph is deprecated. Please use tf.compat.v1.get_default_graph instead.\n",
      "\n",
      "W0804 12:55:52.542966  7948 deprecation_wrapper.py:119] From C:\\Users\\ehddn\\.conda\\envs\\venv\\lib\\site-packages\\keras-2.2.4-py3.7.egg\\keras\\backend\\tensorflow_backend.py:529: The name tf.placeholder is deprecated. Please use tf.compat.v1.placeholder instead.\n",
      "\n",
      "W0804 12:55:52.547529  7948 deprecation_wrapper.py:119] From C:\\Users\\ehddn\\.conda\\envs\\venv\\lib\\site-packages\\keras-2.2.4-py3.7.egg\\keras\\backend\\tensorflow_backend.py:4420: The name tf.random_uniform is deprecated. Please use tf.random.uniform instead.\n",
      "\n"
     ]
    }
   ],
   "source": [
    "# Sequential\n",
    "# 여러 계층들을 선형으로 쌓도록 하는 것이다.\n",
    "\n",
    "# Embedding\n",
    "# 차원을 축소할 수 있다. \n",
    "# 범주형 자료를 one-hot-encoding으로 표현할 경우 n-1개의 차원이 필요한 반면, \n",
    "# embedding을 활용하면 2,3차원으로도 자료를 표현할 수 있다. \n",
    "# 범주형 자료를 연속형으로 표현할 수 있다. \n",
    "# 의미를 도출하기에 용이하다 \n",
    "# vector space로 나타낼 경우, 직관적으로 이해할 수 있는 형태를 띠므로 \n",
    "# 의미를 도출하기에 편리하다.\n",
    "# -> Embedding 후의 벡터 크기 : 120\n",
    "\n",
    "# LSTM : RNN을 해결하기 위한 열쇠 (Long Short-Term Memory Network)\n",
    "# RNN은 긴 기간의 의존성을 완벽하게 다룰 수 있다는 이론적 근거가 있지만\n",
    "# 실제 문제를 해결하지 못한다.\n",
    "# RNN은 반복 모듈마다 하나의 layer만 가지고 있다.\n",
    "# 하지만 LSTM은 4개의 layer를 가지고 있다.\n",
    "\n",
    "# 카테고리가 2개 이므로 0 또는 1의 결과를 도출할 수 있는 sigmoid 함수를 이용하였다.\n",
    "model = Sequential()\n",
    "model.add(Embedding(5000, 120))\n",
    "model.add(LSTM(120))\n",
    "model.add(Dense(1, activation='sigmoid'))"
   ]
  },
  {
   "cell_type": "code",
   "execution_count": 5,
   "metadata": {},
   "outputs": [
    {
     "name": "stderr",
     "output_type": "stream",
     "text": [
      "W0804 12:55:52.719439  7948 deprecation_wrapper.py:119] From C:\\Users\\ehddn\\.conda\\envs\\venv\\lib\\site-packages\\keras-2.2.4-py3.7.egg\\keras\\optimizers.py:793: The name tf.train.Optimizer is deprecated. Please use tf.compat.v1.train.Optimizer instead.\n",
      "\n",
      "W0804 12:55:52.742142  7948 deprecation_wrapper.py:119] From C:\\Users\\ehddn\\.conda\\envs\\venv\\lib\\site-packages\\keras-2.2.4-py3.7.egg\\keras\\backend\\tensorflow_backend.py:3645: The name tf.log is deprecated. Please use tf.math.log instead.\n",
      "\n",
      "W0804 12:55:52.746140  7948 deprecation.py:323] From C:\\Users\\ehddn\\.conda\\envs\\venv\\lib\\site-packages\\tensorflow\\python\\ops\\nn_impl.py:180: add_dispatch_support.<locals>.wrapper (from tensorflow.python.ops.array_ops) is deprecated and will be removed in a future version.\n",
      "Instructions for updating:\n",
      "Use tf.where in 2.0, which has the same broadcast rule as np.where\n",
      "W0804 12:55:53.216088  7948 deprecation_wrapper.py:119] From C:\\Users\\ehddn\\.conda\\envs\\venv\\lib\\site-packages\\keras-2.2.4-py3.7.egg\\keras\\backend\\tensorflow_backend.py:1021: The name tf.assign_add is deprecated. Please use tf.compat.v1.assign_add instead.\n",
      "\n"
     ]
    },
    {
     "name": "stdout",
     "output_type": "stream",
     "text": [
      "Train on 25000 samples, validate on 25000 samples\n",
      "Epoch 1/25\n",
      "25000/25000 [==============================] - 603s 24ms/step - loss: 0.4742 - acc: 0.7690 - val_loss: 0.3533 - val_acc: 0.8529\n",
      "Epoch 2/25\n",
      "25000/25000 [==============================] - 671s 27ms/step - loss: 0.2972 - acc: 0.8774 - val_loss: 0.3007 - val_acc: 0.8749\n",
      "Epoch 3/25\n",
      "25000/25000 [==============================] - 664s 27ms/step - loss: 0.2387 - acc: 0.9057 - val_loss: 0.3149 - val_acc: 0.8771\n",
      "Epoch 4/25\n",
      "25000/25000 [==============================] - 654s 26ms/step - loss: 0.1992 - acc: 0.9226 - val_loss: 0.3389 - val_acc: 0.8746\n",
      "Epoch 5/25\n",
      "25000/25000 [==============================] - 722s 29ms/step - loss: 0.1694 - acc: 0.9362 - val_loss: 0.3721 - val_acc: 0.8686\n",
      "Epoch 6/25\n",
      "25000/25000 [==============================] - 606s 24ms/step - loss: 0.1446 - acc: 0.9452 - val_loss: 0.4321 - val_acc: 0.8432\n",
      "Epoch 7/25\n",
      "25000/25000 [==============================] - 596s 24ms/step - loss: 0.1271 - acc: 0.9532 - val_loss: 0.3797 - val_acc: 0.8626\n",
      "Epoch 8/25\n",
      "25000/25000 [==============================] - 597s 24ms/step - loss: 0.1069 - acc: 0.9615 - val_loss: 0.4111 - val_acc: 0.8673\n",
      "Epoch 9/25\n",
      "25000/25000 [==============================] - 598s 24ms/step - loss: 0.0883 - acc: 0.9686 - val_loss: 0.5005 - val_acc: 0.8614\n",
      "Epoch 10/25\n",
      "25000/25000 [==============================] - 596s 24ms/step - loss: 0.0662 - acc: 0.9772 - val_loss: 0.5608 - val_acc: 0.8670\n",
      "Epoch 11/25\n",
      "25000/25000 [==============================] - 609s 24ms/step - loss: 0.0601 - acc: 0.9795 - val_loss: 0.5555 - val_acc: 0.8664\n",
      "Epoch 12/25\n",
      "25000/25000 [==============================] - 604s 24ms/step - loss: 0.0518 - acc: 0.9827 - val_loss: 0.5791 - val_acc: 0.8509\n",
      "Epoch 13/25\n",
      "25000/25000 [==============================] - 654s 26ms/step - loss: 0.0540 - acc: 0.9821 - val_loss: 0.5689 - val_acc: 0.8620\n",
      "Epoch 14/25\n",
      "25000/25000 [==============================] - 643s 26ms/step - loss: 0.0574 - acc: 0.9811 - val_loss: 0.6139 - val_acc: 0.8638\n",
      "Epoch 15/25\n",
      "25000/25000 [==============================] - 657s 26ms/step - loss: 0.0317 - acc: 0.9904 - val_loss: 0.6442 - val_acc: 0.8614\n",
      "Epoch 16/25\n",
      "25000/25000 [==============================] - 613s 25ms/step - loss: 0.0368 - acc: 0.9881 - val_loss: 0.6400 - val_acc: 0.8533\n",
      "Epoch 17/25\n",
      "25000/25000 [==============================] - 605s 24ms/step - loss: 0.0445 - acc: 0.9865 - val_loss: 0.5676 - val_acc: 0.8619\n",
      "Epoch 18/25\n",
      "25000/25000 [==============================] - 606s 24ms/step - loss: 0.0317 - acc: 0.9891 - val_loss: 0.6667 - val_acc: 0.8652\n",
      "Epoch 19/25\n",
      "25000/25000 [==============================] - 611s 24ms/step - loss: 0.0241 - acc: 0.9928 - val_loss: 0.7242 - val_acc: 0.8648\n",
      "Epoch 20/25\n",
      "25000/25000 [==============================] - 625s 25ms/step - loss: 0.0258 - acc: 0.9931 - val_loss: 0.8016 - val_acc: 0.8591\n",
      "Epoch 21/25\n",
      "25000/25000 [==============================] - 617s 25ms/step - loss: 0.0146 - acc: 0.9960 - val_loss: 0.7987 - val_acc: 0.8616\n",
      "Epoch 22/25\n",
      "25000/25000 [==============================] - 603s 24ms/step - loss: 0.0376 - acc: 0.9890 - val_loss: 0.7452 - val_acc: 0.8654\n",
      "Epoch 23/25\n",
      "25000/25000 [==============================] - 596s 24ms/step - loss: 0.0248 - acc: 0.9929 - val_loss: 0.7139 - val_acc: 0.8619\n",
      "Epoch 24/25\n",
      "25000/25000 [==============================] - 598s 24ms/step - loss: 0.0171 - acc: 0.9952 - val_loss: 0.7627 - val_acc: 0.8631\n",
      "Epoch 25/25\n",
      "25000/25000 [==============================] - 599s 24ms/step - loss: 0.0065 - acc: 0.9988 - val_loss: 0.8040 - val_acc: 0.8653\n",
      "Accuracy : 86.53%\n"
     ]
    }
   ],
   "source": [
    "# epoch : 25 / batch size : 64\n",
    "model.compile(loss='binary_crossentropy', optimizer='adam', metrics=['accuracy'])\n",
    "history = model.fit(x_train, y_train, validation_data=(x_test, y_test), epochs=25, batch_size=64)\n",
    "history_dict = history.history\n",
    "history_dict.keys()\n",
    "scores = model.evaluate(x_test, y_test, verbose=0)\n",
    "print(\"Accuracy : %.2f%%\" % (scores[1]*100))"
   ]
  },
  {
   "cell_type": "code",
   "execution_count": 6,
   "metadata": {},
   "outputs": [
    {
     "name": "stdout",
     "output_type": "stream",
     "text": [
      "Model: \"sequential_1\"\n",
      "_________________________________________________________________\n",
      "Layer (type)                 Output Shape              Param #   \n",
      "=================================================================\n",
      "embedding_1 (Embedding)      (None, None, 120)         600000    \n",
      "_________________________________________________________________\n",
      "lstm_1 (LSTM)                (None, 120)               115680    \n",
      "_________________________________________________________________\n",
      "dense_1 (Dense)              (None, 1)                 121       \n",
      "=================================================================\n",
      "Total params: 715,801\n",
      "Trainable params: 715,801\n",
      "Non-trainable params: 0\n",
      "_________________________________________________________________\n"
     ]
    }
   ],
   "source": [
    "model.summary()"
   ]
  },
  {
   "cell_type": "code",
   "execution_count": 8,
   "metadata": {},
   "outputs": [
    {
     "data": {
      "image/png": "[encoded data removed]",
      "text/plain": [
       "<Figure size 432x288 with 1 Axes>"
      ]
     },
     "metadata": {
      "needs_background": "light"
     },
     "output_type": "display_data"
    }
   ],
   "source": [
    "import matplotlib.pyplot as plt\n",
    "loss = history.history['loss']\n",
    "val_loss = history.history['val_loss']\n",
    "\n",
    "epochs = range(1, len(loss) + 1)\n",
    "\n",
    "plt.plot(epochs, loss, 'bo', label='loss')\n",
    "plt.plot(epochs, val_loss, 'b', label='val_loss')\n",
    "plt.title('Training and validation loss')\n",
    "plt.xlabel('Epochs')\n",
    "plt.ylabel('Loss')\n",
    "plt.legend()\n",
    "\n",
    "plt.show()"
   ]
  },
  {
   "cell_type": "code",
   "execution_count": null,
   "metadata": {},
   "outputs": [],
   "source": []
  }
 ],
 "metadata": {
  "kernelspec": {
   "display_name": "Python 3",
   "language": "python",
   "name": "python3"
  },
  "language_info": {
   "codemirror_mode": {
    "name": "ipython",
    "version": 3
   },
   "file_extension": ".py",
   "mimetype": "text/x-python",
   "name": "python",
   "nbconvert_exporter": "python",
   "pygments_lexer": "ipython3",
   "version": "3.7.3"
  }
 },
 "nbformat": 4,
 "nbformat_minor": 2
}
