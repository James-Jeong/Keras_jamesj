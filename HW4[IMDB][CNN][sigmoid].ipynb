{
 "cells": [
  {
   "cell_type": "code",
   "execution_count": 1,
   "metadata": {},
   "outputs": [],
   "source": [
    "# IMDB & CNN\n",
    "# *Dataset에 대해 추가 조사 필요\n",
    "# - 실제 데이터에 대한 상세 기술\n",
    "# - 예측하고자 하는 방법/방향 기술 : batch size를 64, hidden dimension을 250으로 CNN을 통해 테스트해서 accuracy를 높이고자 했다.\n",
    "# - 학습을 위해 데이터가 어떻게 가공/처리되었는지 기술\n",
    "# - 사용된 모델의 특징에 대한 기술\n",
    "# - 생성된 모델의 model.summary() 출력\n",
    "# - epoch은 최소 25회 이상 진행"
   ]
  },
  {
   "cell_type": "code",
   "execution_count": 2,
   "metadata": {},
   "outputs": [
    {
     "name": "stderr",
     "output_type": "stream",
     "text": [
      "Using TensorFlow backend.\n"
     ]
    }
   ],
   "source": [
    "from keras.datasets import imdb\n",
    "from keras.models import Sequential\n",
    "from keras.layers import Dense, Dropout, Embedding, Activation\n",
    "from keras.layers import Conv1D, GlobalMaxPooling1D\n",
    "from keras.preprocessing import sequence"
   ]
  },
  {
   "cell_type": "code",
   "execution_count": 3,
   "metadata": {},
   "outputs": [],
   "source": [
    "MAX_features = 5000\n",
    "MAX_len = 400\n",
    "Batch_size = 64\n",
    "Embedding_dimension = 120\n",
    "Filters = 250\n",
    "Kernel_size = 3\n",
    "Hidden_dimension = 250\n",
    "Epoch = 25"
   ]
  },
  {
   "cell_type": "code",
   "execution_count": 4,
   "metadata": {},
   "outputs": [],
   "source": [
    "(x_train, y_train), (x_test, y_test) = imdb.load_data(num_words=MAX_features)"
   ]
  },
  {
   "cell_type": "code",
   "execution_count": 5,
   "metadata": {},
   "outputs": [
    {
     "name": "stdout",
     "output_type": "stream",
     "text": [
      "[   0    0    0    0    0    0    0    0    0    0    0    0    0    0\n",
      "    0    0    0    0    0    0    0    0    0    0    0    0    0    0\n",
      "    0    0    0    0    0    0    0    0    0    0    0    0    0    0\n",
      "    0    0    0    0    0    0    0    0    0    0    0    0    0    0\n",
      "    0    0    0    0    0    0    0    0    0    0    0    0    0    0\n",
      "    0    0    0    0    0    0    0    0    0    0    0    0    0    0\n",
      "    0    0    0    0    0    0    0    0    0    0    0    0    0    0\n",
      "    0    0    0    0    0    0    0    0    0    0    0    0    0    0\n",
      "    0    0    0    0    0    0    0    0    0    0    0    0    0    0\n",
      "    0    0    0    0    0    0    0    0    0    0    0    0    0    0\n",
      "    0    0    0    0    0    0    0    0    0    0    0    0    0    0\n",
      "    0    0    0    0    0    0    0    0    0    0    0    0    0    0\n",
      "    0    0    0    0    0    0    0    0    0    0    0    0    0    0\n",
      "    1   14   22   16   43  530  973 1622 1385   65  458 4468   66 3941\n",
      "    4  173   36  256    5   25  100   43  838  112   50  670    2    9\n",
      "   35  480  284    5  150    4  172  112  167    2  336  385   39    4\n",
      "  172 4536 1111   17  546   38   13  447    4  192   50   16    6  147\n",
      " 2025   19   14   22    4 1920 4613  469    4   22   71   87   12   16\n",
      "   43  530   38   76   15   13 1247    4   22   17  515   17   12   16\n",
      "  626   18    2    5   62  386   12    8  316    8  106    5    4 2223\n",
      "    2   16  480   66 3785   33    4  130   12   16   38  619    5   25\n",
      "  124   51   36  135   48   25 1415   33    6   22   12  215   28   77\n",
      "   52    5   14  407   16   82    2    8    4  107  117    2   15  256\n",
      "    4    2    7 3766    5  723   36   71   43  530  476   26  400  317\n",
      "   46    7    4    2 1029   13  104   88    4  381   15  297   98   32\n",
      " 2071   56   26  141    6  194    2   18    4  226   22   21  134  476\n",
      "   26  480    5  144   30    2   18   51   36   28  224   92   25  104\n",
      "    4  226   65   16   38 1334   88   12   16  283    5   16 4472  113\n",
      "  103   32   15   16    2   19  178   32]\n",
      "1\n"
     ]
    }
   ],
   "source": [
    "x_train = sequence.pad_sequences(x_train, maxlen=MAX_len)\n",
    "x_test = sequence.pad_sequences(x_test, maxlen=MAX_len)\n",
    "print(x_train[0])\n",
    "print(y_train[0])"
   ]
  },
  {
   "cell_type": "code",
   "execution_count": 6,
   "metadata": {},
   "outputs": [
    {
     "name": "stderr",
     "output_type": "stream",
     "text": [
      "WARNING: Logging before flag parsing goes to stderr.\n",
      "W0805 16:19:03.591232  6148 deprecation_wrapper.py:119] From C:\\Users\\ehddn\\.conda\\envs\\venv\\lib\\site-packages\\keras-2.2.4-py3.7.egg\\keras\\backend\\tensorflow_backend.py:74: The name tf.get_default_graph is deprecated. Please use tf.compat.v1.get_default_graph instead.\n",
      "\n",
      "W0805 16:19:03.621149  6148 deprecation_wrapper.py:119] From C:\\Users\\ehddn\\.conda\\envs\\venv\\lib\\site-packages\\keras-2.2.4-py3.7.egg\\keras\\backend\\tensorflow_backend.py:529: The name tf.placeholder is deprecated. Please use tf.compat.v1.placeholder instead.\n",
      "\n",
      "W0805 16:19:03.628140  6148 deprecation_wrapper.py:119] From C:\\Users\\ehddn\\.conda\\envs\\venv\\lib\\site-packages\\keras-2.2.4-py3.7.egg\\keras\\backend\\tensorflow_backend.py:4420: The name tf.random_uniform is deprecated. Please use tf.random.uniform instead.\n",
      "\n",
      "W0805 16:19:03.643092  6148 deprecation_wrapper.py:119] From C:\\Users\\ehddn\\.conda\\envs\\venv\\lib\\site-packages\\keras-2.2.4-py3.7.egg\\keras\\backend\\tensorflow_backend.py:136: The name tf.placeholder_with_default is deprecated. Please use tf.compat.v1.placeholder_with_default instead.\n",
      "\n",
      "W0805 16:19:03.652069  6148 deprecation.py:506] From C:\\Users\\ehddn\\.conda\\envs\\venv\\lib\\site-packages\\keras-2.2.4-py3.7.egg\\keras\\backend\\tensorflow_backend.py:3721: calling dropout (from tensorflow.python.ops.nn_ops) with keep_prob is deprecated and will be removed in a future version.\n",
      "Instructions for updating:\n",
      "Please use `rate` instead of `keep_prob`. Rate should be set to `rate = 1 - keep_prob`.\n"
     ]
    }
   ],
   "source": [
    "model = Sequential()\n",
    "model.add(Embedding(MAX_features,\n",
    "                    Embedding_dimension,\n",
    "                    input_length=MAX_len))\n",
    "model.add(Dropout(0.2))"
   ]
  },
  {
   "cell_type": "code",
   "execution_count": 7,
   "metadata": {},
   "outputs": [],
   "source": [
    "# Conv1D는 간단한 데이터 학습 예측에 적합한 컨볼루션 레이어이다.\n",
    "# 특정 부분만 추출 가능(전체 불가능)\n",
    "model.add(Conv1D(Filters,\n",
    "                 Kernel_size,\n",
    "                 padding='valid',\n",
    "                 activation='relu',\n",
    "                 strides=1))"
   ]
  },
  {
   "cell_type": "code",
   "execution_count": 8,
   "metadata": {},
   "outputs": [],
   "source": [
    "# 가장 큰 벡터값만 추출해주는 풀링 함수이다.\n",
    "model.add(GlobalMaxPooling1D())"
   ]
  },
  {
   "cell_type": "code",
   "execution_count": 9,
   "metadata": {},
   "outputs": [],
   "source": [
    "# 히든 레이어는 입력층과 결과층 사이에 존재하는 학습에 중대한 영향을 끼치는 계층이다.\n",
    "model.add(Dense(Hidden_dimension))\n",
    "\n",
    "# Dropout -> 네트워크의 일부를 생략 -> 생략한 네트워크는 학습에 영향을 안끼침\n",
    "# 특정 뉴런의 bias나 weight가 큰 값을 가지면\n",
    "# 이 뉴련의 영향이 커지게 되면서 다른 뉴런들의 학습 속도가 느려지거나 악영향을 끼칠 수 있다.\n",
    "# 이런 특정 뉴런의 영향을 받지 않기 떄문에 co-adaptation이 되는 것을 방지 할 수 있다.\n",
    "model.add(Dropout(0.2))\n",
    "\n",
    "# sigmoid 함수는 backpropagation 수행할 때 각 계층들을 지나면서 gradient를 계속 곱하게\n",
    "# 되어서 gradient는 0으로 수렴한다. 그래서 계층이 많아지면 동작하지 않을 수 있다.\n",
    "# relu 함수는 input value가 0보다 작으면 0 / 0보다 크면 입력값을 보존한다.\n",
    "model.add(Activation('relu'))"
   ]
  },
  {
   "cell_type": "code",
   "execution_count": 10,
   "metadata": {},
   "outputs": [],
   "source": [
    "model.add(Dense(1))\n",
    "model.add(Activation('sigmoid'))"
   ]
  },
  {
   "cell_type": "code",
   "execution_count": 11,
   "metadata": {},
   "outputs": [
    {
     "name": "stderr",
     "output_type": "stream",
     "text": [
      "W0805 16:19:03.768804  6148 deprecation_wrapper.py:119] From C:\\Users\\ehddn\\.conda\\envs\\venv\\lib\\site-packages\\keras-2.2.4-py3.7.egg\\keras\\optimizers.py:793: The name tf.train.Optimizer is deprecated. Please use tf.compat.v1.train.Optimizer instead.\n",
      "\n",
      "W0805 16:19:03.789736  6148 deprecation_wrapper.py:119] From C:\\Users\\ehddn\\.conda\\envs\\venv\\lib\\site-packages\\keras-2.2.4-py3.7.egg\\keras\\backend\\tensorflow_backend.py:3645: The name tf.log is deprecated. Please use tf.math.log instead.\n",
      "\n",
      "W0805 16:19:03.795686  6148 deprecation.py:323] From C:\\Users\\ehddn\\.conda\\envs\\venv\\lib\\site-packages\\tensorflow\\python\\ops\\nn_impl.py:180: add_dispatch_support.<locals>.wrapper (from tensorflow.python.ops.array_ops) is deprecated and will be removed in a future version.\n",
      "Instructions for updating:\n",
      "Use tf.where in 2.0, which has the same broadcast rule as np.where\n"
     ]
    }
   ],
   "source": [
    "model.compile(loss='binary_crossentropy',\n",
    "              optimizer='adam',\n",
    "              metrics=['accuracy'])"
   ]
  },
  {
   "cell_type": "code",
   "execution_count": 12,
   "metadata": {},
   "outputs": [
    {
     "name": "stdout",
     "output_type": "stream",
     "text": [
      "Train on 25000 samples, validate on 25000 samples\n",
      "Epoch 1/25\n",
      "25000/25000 [==============================] - 82s 3ms/step - loss: 0.4149 - acc: 0.7943 - val_loss: 0.2833 - val_acc: 0.8822\n",
      "Epoch 2/25\n",
      "25000/25000 [==============================] - 93s 4ms/step - loss: 0.2083 - acc: 0.9186 - val_loss: 0.2616 - val_acc: 0.8932\n",
      "Epoch 3/25\n",
      "25000/25000 [==============================] - 95s 4ms/step - loss: 0.1220 - acc: 0.9557 - val_loss: 0.3018 - val_acc: 0.8872\n",
      "Epoch 4/25\n",
      "25000/25000 [==============================] - 95s 4ms/step - loss: 0.0656 - acc: 0.9781 - val_loss: 0.3403 - val_acc: 0.8899\n",
      "Epoch 5/25\n",
      "25000/25000 [==============================] - 97s 4ms/step - loss: 0.0299 - acc: 0.9912 - val_loss: 0.4058 - val_acc: 0.8918\n",
      "Epoch 6/25\n",
      "25000/25000 [==============================] - 87s 3ms/step - loss: 0.0163 - acc: 0.9951 - val_loss: 0.4619 - val_acc: 0.8898\n",
      "Epoch 7/25\n",
      "25000/25000 [==============================] - 93s 4ms/step - loss: 0.0171 - acc: 0.9942 - val_loss: 0.4987 - val_acc: 0.8897\n",
      "Epoch 8/25\n",
      "25000/25000 [==============================] - 89s 4ms/step - loss: 0.0193 - acc: 0.9930 - val_loss: 0.5218 - val_acc: 0.8864\n",
      "Epoch 9/25\n",
      "25000/25000 [==============================] - 86s 3ms/step - loss: 0.0212 - acc: 0.9921 - val_loss: 0.5339 - val_acc: 0.8843\n",
      "Epoch 10/25\n",
      "25000/25000 [==============================] - 84s 3ms/step - loss: 0.0228 - acc: 0.9912 - val_loss: 0.5852 - val_acc: 0.8820\n",
      "Epoch 11/25\n",
      "25000/25000 [==============================] - 84s 3ms/step - loss: 0.0125 - acc: 0.9951 - val_loss: 0.7248 - val_acc: 0.8715\n",
      "Epoch 12/25\n",
      "25000/25000 [==============================] - 85s 3ms/step - loss: 0.0135 - acc: 0.9954 - val_loss: 0.5836 - val_acc: 0.8862\n",
      "Epoch 13/25\n",
      "25000/25000 [==============================] - 93s 4ms/step - loss: 0.0131 - acc: 0.9952 - val_loss: 0.5952 - val_acc: 0.8863\n",
      "Epoch 14/25\n",
      "25000/25000 [==============================] - 85s 3ms/step - loss: 0.0143 - acc: 0.9951 - val_loss: 0.5837 - val_acc: 0.8884\n",
      "Epoch 15/25\n",
      "25000/25000 [==============================] - 85s 3ms/step - loss: 0.0143 - acc: 0.9954 - val_loss: 0.6226 - val_acc: 0.8909\n",
      "Epoch 16/25\n",
      "25000/25000 [==============================] - 86s 3ms/step - loss: 0.0090 - acc: 0.9967 - val_loss: 0.6680 - val_acc: 0.8810\n",
      "Epoch 17/25\n",
      "25000/25000 [==============================] - 93s 4ms/step - loss: 0.0100 - acc: 0.9967 - val_loss: 0.6501 - val_acc: 0.8892\n",
      "Epoch 18/25\n",
      "25000/25000 [==============================] - 89s 4ms/step - loss: 0.0151 - acc: 0.9946 - val_loss: 0.6508 - val_acc: 0.8865\n",
      "Epoch 19/25\n",
      "25000/25000 [==============================] - 85s 3ms/step - loss: 0.0115 - acc: 0.9956 - val_loss: 0.6773 - val_acc: 0.8874\n",
      "Epoch 20/25\n",
      "25000/25000 [==============================] - 86s 3ms/step - loss: 0.0089 - acc: 0.9968 - val_loss: 0.7159 - val_acc: 0.8861\n",
      "Epoch 21/25\n",
      "25000/25000 [==============================] - 86s 3ms/step - loss: 0.0059 - acc: 0.9982 - val_loss: 0.6792 - val_acc: 0.8880\n",
      "Epoch 22/25\n",
      "25000/25000 [==============================] - 85s 3ms/step - loss: 0.0093 - acc: 0.9968 - val_loss: 0.8305 - val_acc: 0.8716\n",
      "Epoch 23/25\n",
      "25000/25000 [==============================] - 85s 3ms/step - loss: 0.0088 - acc: 0.9968 - val_loss: 0.6868 - val_acc: 0.8885\n",
      "Epoch 24/25\n",
      "25000/25000 [==============================] - 87s 3ms/step - loss: 0.0087 - acc: 0.9969 - val_loss: 0.7113 - val_acc: 0.8878\n",
      "Epoch 25/25\n",
      "25000/25000 [==============================] - 88s 4ms/step - loss: 0.0080 - acc: 0.9970 - val_loss: 0.7777 - val_acc: 0.8872\n"
     ]
    },
    {
     "data": {
      "text/plain": [
       "dict_keys(['val_loss', 'val_acc', 'loss', 'acc'])"
      ]
     },
     "execution_count": 12,
     "metadata": {},
     "output_type": "execute_result"
    }
   ],
   "source": [
    "history = model.fit(x_train, y_train,\n",
    "          batch_size=Batch_size,\n",
    "          epochs=Epoch,\n",
    "          validation_data=(x_test, y_test))\n",
    "history_dict = history.history\n",
    "history_dict.keys()"
   ]
  },
  {
   "cell_type": "code",
   "execution_count": 13,
   "metadata": {},
   "outputs": [
    {
     "name": "stdout",
     "output_type": "stream",
     "text": [
      "Model: \"sequential_1\"\n",
      "_________________________________________________________________\n",
      "Layer (type)                 Output Shape              Param #   \n",
      "=================================================================\n",
      "embedding_1 (Embedding)      (None, 400, 120)          600000    \n",
      "_________________________________________________________________\n",
      "dropout_1 (Dropout)          (None, 400, 120)          0         \n",
      "_________________________________________________________________\n",
      "conv1d_1 (Conv1D)            (None, 398, 250)          90250     \n",
      "_________________________________________________________________\n",
      "global_max_pooling1d_1 (Glob (None, 250)               0         \n",
      "_________________________________________________________________\n",
      "dense_1 (Dense)              (None, 250)               62750     \n",
      "_________________________________________________________________\n",
      "dropout_2 (Dropout)          (None, 250)               0         \n",
      "_________________________________________________________________\n",
      "activation_1 (Activation)    (None, 250)               0         \n",
      "_________________________________________________________________\n",
      "dense_2 (Dense)              (None, 1)                 251       \n",
      "_________________________________________________________________\n",
      "activation_2 (Activation)    (None, 1)                 0         \n",
      "=================================================================\n",
      "Total params: 753,251\n",
      "Trainable params: 753,251\n",
      "Non-trainable params: 0\n",
      "_________________________________________________________________\n"
     ]
    }
   ],
   "source": [
    "model.summary()"
   ]
  },
  {
   "cell_type": "code",
   "execution_count": 14,
   "metadata": {},
   "outputs": [
    {
     "name": "stdout",
     "output_type": "stream",
     "text": [
      "Accuracy : 88.72%\n"
     ]
    }
   ],
   "source": [
    "scores = model.evaluate(x_test, y_test, verbose=0)\n",
    "print(\"Accuracy : %.2f%%\" % (scores[1]*100))"
   ]
  },
  {
   "cell_type": "code",
   "execution_count": 16,
   "metadata": {},
   "outputs": [
    {
     "data": {
      "image/png": "[encoded data removed]",
      "text/plain": [
       "<Figure size 432x288 with 1 Axes>"
      ]
     },
     "metadata": {
      "needs_background": "light"
     },
     "output_type": "display_data"
    }
   ],
   "source": [
    "import matplotlib.pyplot as plt\n",
    "loss = history.history['loss']\n",
    "val_loss = history.history['val_loss']\n",
    "\n",
    "epochs = range(1, len(loss) + 1)\n",
    "\n",
    "plt.plot(epochs, loss, 'bo', label='loss')\n",
    "plt.plot(epochs, val_loss, 'b', label='val_loss')\n",
    "plt.title('Training and validation loss')\n",
    "plt.xlabel('Epochs')\n",
    "plt.ylabel('Loss')\n",
    "plt.legend()\n",
    "\n",
    "plt.show()"
   ]
  },
  {
   "cell_type": "code",
   "execution_count": null,
   "metadata": {},
   "outputs": [],
   "source": []
  }
 ],
 "metadata": {
  "kernelspec": {
   "display_name": "Python 3",
   "language": "python",
   "name": "python3"
  },
  "language_info": {
   "codemirror_mode": {
    "name": "ipython",
    "version": 3
   },
   "file_extension": ".py",
   "mimetype": "text/x-python",
   "name": "python",
   "nbconvert_exporter": "python",
   "pygments_lexer": "ipython3",
   "version": "3.7.3"
  }
 },
 "nbformat": 4,
 "nbformat_minor": 2
}
