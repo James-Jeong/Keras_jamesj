{
 "cells": [
  {
   "cell_type": "code",
   "execution_count": 60,
   "metadata": {},
   "outputs": [],
   "source": [
    "# IMDB & LSMTM & CNN\n",
    "# *Dataset에 대해 추가 조사 필요\n",
    "# - 실제 데이터에 대한 상세 기술\n",
    "# - 예측하고자 하는 방법/방향 기술 : LSTM과 CNN을 합친 모델로 학습하여 얻게된 accuracy를 예측하고자 한다.\n",
    "# - 학습을 위해 데이터가 어떻게 가공/처리되었는지 기술 -> 앞 문서들에서 언급됨.\n",
    "# - 사용된 모델의 특징에 대한 기술 -> 앞 문서들에서 언급됨.\n",
    "# - 생성된 모델의 model.summary() 출력\n",
    "# - epoch은 최소 25회 이상 진행"
   ]
  },
  {
   "cell_type": "code",
   "execution_count": 66,
   "metadata": {},
   "outputs": [],
   "source": [
    "from keras.datasets import imdb\n",
    "from keras.models import Sequential\n",
    "from keras.layers import Dense, Dropout, Embedding, Activation, LSTM\n",
    "from keras.layers import Conv1D, MaxPooling1D\n",
    "from keras.preprocessing import sequence"
   ]
  },
  {
   "cell_type": "code",
   "execution_count": 67,
   "metadata": {},
   "outputs": [],
   "source": [
    "MAX_features = 5000\n",
    "MAX_len = 400\n",
    "Batch_size = 30\n",
    "Embedding_dimension = 128\n",
    "Filters = 150\n",
    "Pool_size = 4\n",
    "Kernel_size = 5\n",
    "Hidden_dimension = 250\n",
    "Epoch = 25"
   ]
  },
  {
   "cell_type": "code",
   "execution_count": 68,
   "metadata": {},
   "outputs": [],
   "source": [
    "(x_train, y_train), (x_test, y_test) = imdb.load_data(num_words=MAX_features)"
   ]
  },
  {
   "cell_type": "code",
   "execution_count": 77,
   "metadata": {},
   "outputs": [
    {
     "name": "stdout",
     "output_type": "stream",
     "text": [
      "[   0    0    0    0    0    0    0    0    0    0    0    0    0    0\n",
      "    0    0    0    0    0    0    0    0    0    0    0    0    0    0\n",
      "    0    0    0    0    0    0    0    0    0    0    0    0    0    0\n",
      "    0    0    0    0    0    0    0    0    0    0    0    0    0    0\n",
      "    0    0    0    0    0    0    0    0    0    0    0    0    0    0\n",
      "    0    0    0    0    0    0    0    0    0    0    0    0    0    0\n",
      "    0    0    0    0    0    0    0    0    0    0    0    0    0    0\n",
      "    0    0    0    0    0    0    0    0    0    0    0    0    0    0\n",
      "    0    0    0    0    0    0    0    0    0    0    0    0    0    0\n",
      "    0    0    0    0    0    0    0    0    0    0    0    0    0    0\n",
      "    0    0    0    0    0    0    0    0    0    0    0    0    0    0\n",
      "    0    0    0    0    0    0    0    0    0    0    0    0    0    0\n",
      "    0    0    0    0    0    0    0    0    0    0    0    0    0    0\n",
      "    1   14   22   16   43  530  973 1622 1385   65  458 4468   66 3941\n",
      "    4  173   36  256    5   25  100   43  838  112   50  670    2    9\n",
      "   35  480  284    5  150    4  172  112  167    2  336  385   39    4\n",
      "  172 4536 1111   17  546   38   13  447    4  192   50   16    6  147\n",
      " 2025   19   14   22    4 1920 4613  469    4   22   71   87   12   16\n",
      "   43  530   38   76   15   13 1247    4   22   17  515   17   12   16\n",
      "  626   18    2    5   62  386   12    8  316    8  106    5    4 2223\n",
      "    2   16  480   66 3785   33    4  130   12   16   38  619    5   25\n",
      "  124   51   36  135   48   25 1415   33    6   22   12  215   28   77\n",
      "   52    5   14  407   16   82    2    8    4  107  117    2   15  256\n",
      "    4    2    7 3766    5  723   36   71   43  530  476   26  400  317\n",
      "   46    7    4    2 1029   13  104   88    4  381   15  297   98   32\n",
      " 2071   56   26  141    6  194    2   18    4  226   22   21  134  476\n",
      "   26  480    5  144   30    2   18   51   36   28  224   92   25  104\n",
      "    4  226   65   16   38 1334   88   12   16  283    5   16 4472  113\n",
      "  103   32   15   16    2   19  178   32]\n",
      "1\n"
     ]
    }
   ],
   "source": [
    "x_train = sequence.pad_sequences(x_train, maxlen=MAX_len)\n",
    "x_test = sequence.pad_sequences(x_test, maxlen=MAX_len)\n",
    "print(x_train[0])\n",
    "print(y_train[0])"
   ]
  },
  {
   "cell_type": "code",
   "execution_count": 70,
   "metadata": {},
   "outputs": [
    {
     "name": "stderr",
     "output_type": "stream",
     "text": [
      "W0803 13:29:22.280443  5440 deprecation_wrapper.py:119] From C:\\Users\\ehddn\\.conda\\envs\\venv\\lib\\site-packages\\keras-2.2.4-py3.7.egg\\keras\\backend\\tensorflow_backend.py:4255: The name tf.nn.max_pool is deprecated. Please use tf.nn.max_pool2d instead.\n",
      "\n"
     ]
    }
   ],
   "source": [
    "model = Sequential()\n",
    "model.add(Embedding(MAX_features, Embedding_dimension, input_length=MAX_len))\n",
    "model.add(Dropout(0.25))\n",
    "model.add(Conv1D(Filters,\n",
    "                 Kernel_size,\n",
    "                 padding='valid',\n",
    "                 activation='relu',\n",
    "                 strides=1))\n",
    "model.add(MaxPooling1D(pool_size=Pool_size))\n",
    "model.add(LSTM(70))\n",
    "model.add(Dense(1, activation='sigmoid'))"
   ]
  },
  {
   "cell_type": "code",
   "execution_count": 71,
   "metadata": {},
   "outputs": [],
   "source": [
    "model.compile(loss='binary_crossentropy',\n",
    "              optimizer='adam',\n",
    "              metrics=['accuracy'])"
   ]
  },
  {
   "cell_type": "code",
   "execution_count": 72,
   "metadata": {},
   "outputs": [
    {
     "name": "stdout",
     "output_type": "stream",
     "text": [
      "Train on 25000 samples, validate on 25000 samples\n",
      "Epoch 1/25\n",
      "25000/25000 [==============================] - 183s 7ms/step - loss: 0.3567 - acc: 0.8399 - val_loss: 0.2616 - val_acc: 0.8926\n",
      "Epoch 2/25\n",
      "25000/25000 [==============================] - 171s 7ms/step - loss: 0.2175 - acc: 0.9160 - val_loss: 0.2613 - val_acc: 0.8930 a\n",
      "Epoch 3/25\n",
      "25000/25000 [==============================] - 181s 7ms/step - loss: 0.1553 - acc: 0.9422 - val_loss: 0.2946 - val_acc: 0.8891\n",
      "Epoch 4/25\n",
      "25000/25000 [==============================] - 182s 7ms/step - loss: 0.1048 - acc: 0.9636 - val_loss: 0.3661 - val_acc: 0.8777\n",
      "Epoch 5/25\n",
      "25000/25000 [==============================] - 179s 7ms/step - loss: 0.0698 - acc: 0.9762 - val_loss: 0.3889 - val_acc: 0.8798\n",
      "Epoch 6/25\n",
      "25000/25000 [==============================] - 181s 7ms/step - loss: 0.0491 - acc: 0.9843 - val_loss: 0.4424 - val_acc: 0.8787\n",
      "Epoch 7/25\n",
      "25000/25000 [==============================] - 189s 8ms/step - loss: 0.0433 - acc: 0.9860 - val_loss: 0.4959 - val_acc: 0.8799\n",
      "Epoch 8/25\n",
      "25000/25000 [==============================] - 184s 7ms/step - loss: 0.0322 - acc: 0.9894 - val_loss: 0.5561 - val_acc: 0.8702\n",
      "Epoch 9/25\n",
      "25000/25000 [==============================] - 182s 7ms/step - loss: 0.0277 - acc: 0.9894 - val_loss: 0.5817 - val_acc: 0.8755\n",
      "Epoch 10/25\n",
      "25000/25000 [==============================] - 192s 8ms/step - loss: 0.0206 - acc: 0.9929 - val_loss: 0.5869 - val_acc: 0.8752\n",
      "Epoch 11/25\n",
      "25000/25000 [==============================] - 211s 8ms/step - loss: 0.0226 - acc: 0.9926 - val_loss: 0.5694 - val_acc: 0.8810\n",
      "Epoch 12/25\n",
      "25000/25000 [==============================] - 199s 8ms/step - loss: 0.0164 - acc: 0.9947 - val_loss: 0.6109 - val_acc: 0.8696\n",
      "Epoch 13/25\n",
      "25000/25000 [==============================] - 199s 8ms/step - loss: 0.0148 - acc: 0.9946 - val_loss: 0.6745 - val_acc: 0.8742\n",
      "Epoch 14/25\n",
      "25000/25000 [==============================] - 202s 8ms/step - loss: 0.0171 - acc: 0.9938 - val_loss: 0.6150 - val_acc: 0.8798\n",
      "Epoch 15/25\n",
      "25000/25000 [==============================] - 215s 9ms/step - loss: 0.0121 - acc: 0.9959 - val_loss: 0.6186 - val_acc: 0.8716\n",
      "Epoch 16/25\n",
      "25000/25000 [==============================] - 204s 8ms/step - loss: 0.0113 - acc: 0.9962 - val_loss: 0.7631 - val_acc: 0.8727113 - ac\n",
      "Epoch 17/25\n",
      "25000/25000 [==============================] - 212s 8ms/step - loss: 0.0142 - acc: 0.9951 - val_loss: 0.6568 - val_acc: 0.8737\n",
      "Epoch 18/25\n",
      "25000/25000 [==============================] - 214s 9ms/step - loss: 0.0120 - acc: 0.9959 - val_loss: 0.6771 - val_acc: 0.8764\n",
      "Epoch 19/25\n",
      "25000/25000 [==============================] - 232s 9ms/step - loss: 0.0097 - acc: 0.9971 - val_loss: 0.6877 - val_acc: 0.8728\n",
      "Epoch 20/25\n",
      "25000/25000 [==============================] - 217s 9ms/step - loss: 0.0110 - acc: 0.9965 - val_loss: 0.6841 - val_acc: 0.8753\n",
      "Epoch 21/25\n",
      "25000/25000 [==============================] - 207s 8ms/step - loss: 0.0104 - acc: 0.9964 - val_loss: 0.6299 - val_acc: 0.8705\n",
      "Epoch 22/25\n",
      "25000/25000 [==============================] - 213s 9ms/step - loss: 0.0079 - acc: 0.9976 - val_loss: 0.7351 - val_acc: 0.8745\n",
      "Epoch 23/25\n",
      "25000/25000 [==============================] - 207s 8ms/step - loss: 0.0108 - acc: 0.9960 - val_loss: 0.7296 - val_acc: 0.8757\n",
      "Epoch 24/25\n",
      "25000/25000 [==============================] - 201s 8ms/step - loss: 0.0089 - acc: 0.9971 - val_loss: 0.7489 - val_acc: 0.8676\n",
      "Epoch 25/25\n",
      "25000/25000 [==============================] - 199s 8ms/step - loss: 0.0093 - acc: 0.9966 - val_loss: 0.9029 - val_acc: 0.8554\n",
      "25000/25000 [==============================] - 40s 2ms/step\n",
      "Test score : 0.9028689143504133\n",
      "Test accuracy : 0.855399993801117\n",
      "Model: \"sequential_13\"\n",
      "_________________________________________________________________\n",
      "Layer (type)                 Output Shape              Param #   \n",
      "=================================================================\n",
      "embedding_12 (Embedding)     (None, 400, 128)          640000    \n",
      "_________________________________________________________________\n",
      "dropout_12 (Dropout)         (None, 400, 128)          0         \n",
      "_________________________________________________________________\n",
      "conv1d_12 (Conv1D)           (None, 396, 150)          96150     \n",
      "_________________________________________________________________\n",
      "max_pooling1d_1 (MaxPooling1 (None, 99, 150)           0         \n",
      "_________________________________________________________________\n",
      "lstm_9 (LSTM)                (None, 70)                61880     \n",
      "_________________________________________________________________\n",
      "dense_1 (Dense)              (None, 1)                 71        \n",
      "=================================================================\n",
      "Total params: 798,101\n",
      "Trainable params: 798,101\n",
      "Non-trainable params: 0\n",
      "_________________________________________________________________\n",
      "Accuracy : 85.54%\n"
     ]
    },
    {
     "data": {
      "text/plain": [
       "dict_keys(['val_loss', 'val_acc', 'loss', 'acc'])"
      ]
     },
     "execution_count": 72,
     "metadata": {},
     "output_type": "execute_result"
    }
   ],
   "source": [
    "history = model.fit(x_train, y_train,\n",
    "          batch_size=Batch_size,\n",
    "          epochs=Epoch,\n",
    "          validation_data=(x_test, y_test))\n",
    "score, acc = model.evaluate(x_test, y_test, batch_size=Batch_size)\n",
    "print('Test score :', score)\n",
    "print('Test accuracy :', acc)\n",
    "model.summary()\n",
    "scores = model.evaluate(x_test, y_test, verbose=0)\n",
    "print(\"Accuracy : %.2f%%\" % (scores[1]*100))\n",
    "history_dict = history.history\n",
    "history_dict.keys()"
   ]
  },
  {
   "cell_type": "code",
   "execution_count": 76,
   "metadata": {},
   "outputs": [
    {
     "data": {
      "image/png": "[encoded data removed]",
      "text/plain": [
       "<Figure size 432x288 with 1 Axes>"
      ]
     },
     "metadata": {
      "needs_background": "light"
     },
     "output_type": "display_data"
    }
   ],
   "source": [
    "import matplotlib.pyplot as plt\n",
    "loss = history.history['loss']\n",
    "val_loss = history.history['val_loss']\n",
    "\n",
    "epochs = range(1, len(loss) + 1)\n",
    "\n",
    "plt.plot(epochs, loss, 'bo', label='loss')\n",
    "plt.plot(epochs, val_loss, 'b', label='val_loss')\n",
    "plt.title('Training and validation loss')\n",
    "plt.xlabel('Epochs')\n",
    "plt.ylabel('Loss')\n",
    "plt.legend()\n",
    "\n",
    "plt.show()"
   ]
  },
  {
   "cell_type": "code",
   "execution_count": null,
   "metadata": {},
   "outputs": [],
   "source": []
  }
 ],
 "metadata": {
  "kernelspec": {
   "display_name": "Python 3",
   "language": "python",
   "name": "python3"
  },
  "language_info": {
   "codemirror_mode": {
    "name": "ipython",
    "version": 3
   },
   "file_extension": ".py",
   "mimetype": "text/x-python",
   "name": "python",
   "nbconvert_exporter": "python",
   "pygments_lexer": "ipython3",
   "version": "3.7.3"
  }
 },
 "nbformat": 4,
 "nbformat_minor": 2
}
